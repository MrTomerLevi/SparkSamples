{
 "cells": [
  {
   "cell_type": "code",
   "execution_count": 1,
   "metadata": {},
   "outputs": [
    {
     "data": {
      "text/plain": [
       "org.apache.spark.sql.SparkSession@52f04e96"
      ]
     },
     "execution_count": 1,
     "metadata": {},
     "output_type": "execute_result"
    }
   ],
   "source": [
    "// place a csv file names simple_data.csv in the same folder as this notebook \n",
    "// file contents:\n",
    "//\n",
    "//id,data\n",
    "//100, {'name':'037717956'}\n",
    "//200, {'name':'077564444'}"
   ]
  },
  {
   "cell_type": "code",
   "execution_count": 59,
   "metadata": {},
   "outputs": [
    {
     "data": {
      "text/plain": [
       "StructType(StructField(name,StringType,true))"
      ]
     },
     "execution_count": 59,
     "metadata": {},
     "output_type": "execute_result"
    }
   ],
   "source": [
    "case class SimpleData(name: String)\n",
    "val simpleJsonStruct = Encoders.product[SimpleData].schema\n",
    "simpleJsonStruct"
   ]
  },
  {
   "cell_type": "code",
   "execution_count": 64,
   "metadata": {},
   "outputs": [],
   "source": [
    "val simpleDF = spark.read.option(\"header\",\"true\").csv(\"simple_data.csv\")"
   ]
  },
  {
   "cell_type": "code",
   "execution_count": 65,
   "metadata": {},
   "outputs": [
    {
     "name": "stdout",
     "output_type": "stream",
     "text": [
      "root\n",
      " |-- id: string (nullable = true)\n",
      " |-- data: string (nullable = true)\n",
      "\n",
      "+---+--------------------+\n",
      "| id|                data|\n",
      "+---+--------------------+\n",
      "|100| {'name':'0377179...|\n",
      "|200| {'name':'0775644...|\n",
      "+---+--------------------+\n",
      "\n"
     ]
    }
   ],
   "source": [
    "simpleDF.printSchema()\n",
    "simpleDF.show()"
   ]
  },
  {
   "cell_type": "code",
   "execution_count": 69,
   "metadata": {},
   "outputs": [
    {
     "name": "stdout",
     "output_type": "stream",
     "text": [
      "+---+--------------------+-----------+\n",
      "| id|                data|      data2|\n",
      "+---+--------------------+-----------+\n",
      "|100| {'name':'0377179...|[037717956]|\n",
      "|200| {'name':'0775644...|[077564444]|\n",
      "+---+--------------------+-----------+\n",
      "\n"
     ]
    }
   ],
   "source": [
    "val parsedDF = simpleDF.withColumn(\"data2\", from_json(col(\"data\"), simpleJsonStruct))\n",
    "parsedDF.show()"
   ]
  },
  {
   "cell_type": "code",
   "execution_count": 70,
   "metadata": {},
   "outputs": [
    {
     "name": "stdout",
     "output_type": "stream",
     "text": [
      "root\n",
      " |-- id: string (nullable = true)\n",
      " |-- data: string (nullable = true)\n",
      " |-- data2: struct (nullable = true)\n",
      " |    |-- name: string (nullable = true)\n",
      "\n"
     ]
    }
   ],
   "source": [
    "parsedDF.printSchema()"
   ]
  },
  {
   "cell_type": "code",
   "execution_count": 72,
   "metadata": {},
   "outputs": [
    {
     "name": "stdout",
     "output_type": "stream",
     "text": [
      "+---------+\n",
      "|     name|\n",
      "+---------+\n",
      "|037717956|\n",
      "|077564444|\n",
      "+---------+\n",
      "\n"
     ]
    }
   ],
   "source": [
    "parsedDF.select(\"data2.name\").show()"
   ]
  },
  {
   "cell_type": "code",
   "execution_count": 37,
   "metadata": {},
   "outputs": [],
   "source": [
    "val dataDF1 = spark.read.option(\"header\",\"true\").csv(\"medication_schedule_history_all_mjff.csv\")"
   ]
  },
  {
   "cell_type": "code",
   "execution_count": 38,
   "metadata": {},
   "outputs": [
    {
     "name": "stdout",
     "output_type": "stream",
     "text": [
      "+----------+-------+-------+-------------------+-------------------+--------------------+\n",
      "|experiment| cohort|user_id|schedule_time_start|  schedule_time_end| medication_schedule|\n",
      "+----------+-------+-------+-------------------+-------------------+--------------------+\n",
      "|Clinicians|alabama| 142557|2017-06-15 13:29:38|2017-06-15 13:30:04|\"{\"\"schedule\"\":{\"...|\n",
      "|Clinicians|alabama| 142557|2017-06-15 13:30:04|2017-06-15 13:30:28|\"{\"\"schedule\"\":{\"...|\n",
      "|Clinicians|alabama| 142557|2017-06-15 13:30:28|2017-06-15 13:30:58|\"{\"\"schedule\"\":{\"...|\n",
      "|Clinicians|alabama| 142557|2017-06-15 13:30:58|2017-06-15 13:31:33|\"{\"\"schedule\"\":{\"...|\n",
      "|Clinicians|alabama| 142557|2017-06-15 13:31:33|2017-06-23 11:06:36|\"{\"\"schedule\"\":{\"...|\n",
      "|Clinicians|alabama| 142557|2017-06-23 11:06:36|2017-06-23 11:06:50|\"{\"\"schedule\"\":{\"...|\n",
      "|Clinicians|alabama| 142557|2017-06-23 11:06:50|2017-06-23 11:06:59|\"{\"\"schedule\"\":{\"...|\n",
      "|Clinicians|alabama| 142557|2017-06-23 11:06:59|2017-06-24 12:23:21|\"{\"\"schedule\"\":{\"...|\n",
      "|Clinicians|alabama| 142557|2017-06-24 12:23:21|2017-06-24 12:23:39|\"{\"\"schedule\"\":{\"...|\n",
      "|Clinicians|alabama| 142557|2017-06-24 12:23:39|2017-06-24 12:23:57|\"{\"\"schedule\"\":{\"...|\n",
      "+----------+-------+-------+-------------------+-------------------+--------------------+\n",
      "only showing top 10 rows\n",
      "\n"
     ]
    }
   ],
   "source": [
    "dataDF1.show(10)"
   ]
  },
  {
   "cell_type": "code",
   "execution_count": 33,
   "metadata": {},
   "outputs": [
    {
     "data": {
      "text/plain": [
       "[experiment: string, cohort: string ... 4 more fields]"
      ]
     },
     "execution_count": 33,
     "metadata": {},
     "output_type": "execute_result"
    }
   ],
   "source": [
    "dataDF.cache()"
   ]
  },
  {
   "cell_type": "code",
   "execution_count": 34,
   "metadata": {},
   "outputs": [],
   "source": [
    "import scala.util.parsing.json._\n",
    "import org.apache.spark.sql.functions._\n",
    "\n",
    "case class MedicationScheduleRow(name: String, quantity: Double, quantity_type: String)\n",
    "case class MedicationScheduleClass(schedule : Map[String,List[MedicationScheduleRow]])\n",
    "case class TableData(id : Long, version : Integer, user_id: Long,schedule_time : String, medication_schedule: MedicationScheduleClass)\n",
    "val medicationScheduleJsonStruct = Encoders.product[MedicationScheduleClass].schema\n",
    "\n",
    "val jsonDF = dataDF.withColumn(\"medication_schedule\", from_json(col(\"medication_schedule\"), medicationScheduleJsonStruct))"
   ]
  },
  {
   "cell_type": "code",
   "execution_count": 36,
   "metadata": {},
   "outputs": [
    {
     "data": {
      "text/plain": [
       "Array([Clinicians,alabama,142557,2017-06-15 13:29:38,2017-06-15 13:30:04,null])"
      ]
     },
     "execution_count": 36,
     "metadata": {},
     "output_type": "execute_result"
    }
   ],
   "source": [
    "jsonDF.take(1)"
   ]
  },
  {
   "cell_type": "code",
   "execution_count": 35,
   "metadata": {},
   "outputs": [
    {
     "data": {
      "text/plain": [
       "Array([\"{\"\"schedule\"\":{\"\"660\"\":[{\"\"name\"\":\"\"Sinemet\"\"], [\"{\"\"schedule\"\":{\"\"660\"\":[{\"\"name\"\":\"\"Sinemet\"\"], [\"{\"\"schedule\"\":{\"\"420\"\":[{\"\"name\"\":\"\"Sinemet\"\"], [\"{\"\"schedule\"\":{\"\"420\"\":[{\"\"name\"\":\"\"Sinemet\"\"], [\"{\"\"schedule\"\":{\"\"420\"\":[{\"\"name\"\":\"\"Sinemet\"\"])"
      ]
     },
     "execution_count": 35,
     "metadata": {},
     "output_type": "execute_result"
    }
   ],
   "source": [
    "dataDF.select(\"medication_schedule\").take(5)"
   ]
  },
  {
   "cell_type": "code",
   "execution_count": null,
   "metadata": {},
   "outputs": [],
   "source": []
  }
 ],
 "metadata": {
  "kernelspec": {
   "display_name": "Apache Toree - Scala",
   "language": "scala",
   "name": "apache_toree_scala"
  },
  "language_info": {
   "file_extension": ".scala",
   "name": "scala",
   "version": "2.11.8"
  }
 },
 "nbformat": 4,
 "nbformat_minor": 2
}
