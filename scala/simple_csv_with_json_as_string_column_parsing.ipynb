{
 "cells": [
  {
   "cell_type": "code",
   "execution_count": 1,
   "metadata": {},
   "outputs": [
    {
     "data": {
      "text/plain": [
       "org.apache.spark.sql.SparkSession@52f04e96"
      ]
     },
     "execution_count": 1,
     "metadata": {},
     "output_type": "execute_result"
    }
   ],
   "source": [
    "// place a csv file named simple_data.csv in the same folder as this notebook \n",
    "// file contents:\n",
    "//\n",
    "//id,data\n",
    "//100, {'name':'037717956'}\n",
    "//200, {'name':'077564444'}"
   ]
  },
  {
   "cell_type": "code",
   "execution_count": 59,
   "metadata": {},
   "outputs": [
    {
     "data": {
      "text/plain": [
       "StructType(StructField(name,StringType,true))"
      ]
     },
     "execution_count": 59,
     "metadata": {},
     "output_type": "execute_result"
    }
   ],
   "source": [
    "case class SimpleData(name: String)\n",
    "val simpleJsonStruct = Encoders.product[SimpleData].schema\n",
    "simpleJsonStruct"
   ]
  },
  {
   "cell_type": "code",
   "execution_count": 64,
   "metadata": {},
   "outputs": [],
   "source": [
    "val simpleDF = spark.read.option(\"header\",\"true\").csv(\"simple_data.csv\")"
   ]
  },
  {
   "cell_type": "code",
   "execution_count": 65,
   "metadata": {},
   "outputs": [
    {
     "name": "stdout",
     "output_type": "stream",
     "text": [
      "root\n",
      " |-- id: string (nullable = true)\n",
      " |-- data: string (nullable = true)\n",
      "\n",
      "+---+--------------------+\n",
      "| id|                data|\n",
      "+---+--------------------+\n",
      "|100| {'name':'0377179...|\n",
      "|200| {'name':'0775644...|\n",
      "+---+--------------------+\n",
      "\n"
     ]
    }
   ],
   "source": [
    "simpleDF.printSchema()\n",
    "simpleDF.show()"
   ]
  },
  {
   "cell_type": "code",
   "execution_count": 69,
   "metadata": {},
   "outputs": [
    {
     "name": "stdout",
     "output_type": "stream",
     "text": [
      "+---+--------------------+-----------+\n",
      "| id|                data|      data2|\n",
      "+---+--------------------+-----------+\n",
      "|100| {'name':'0377179...|[037717956]|\n",
      "|200| {'name':'0775644...|[077564444]|\n",
      "+---+--------------------+-----------+\n",
      "\n"
     ]
    }
   ],
   "source": [
    "val parsedDF = simpleDF.withColumn(\"data2\", from_json(col(\"data\"), simpleJsonStruct))\n",
    "parsedDF.show()"
   ]
  },
  {
   "cell_type": "code",
   "execution_count": 70,
   "metadata": {},
   "outputs": [
    {
     "name": "stdout",
     "output_type": "stream",
     "text": [
      "root\n",
      " |-- id: string (nullable = true)\n",
      " |-- data: string (nullable = true)\n",
      " |-- data2: struct (nullable = true)\n",
      " |    |-- name: string (nullable = true)\n",
      "\n"
     ]
    }
   ],
   "source": [
    "parsedDF.printSchema()"
   ]
  },
  {
   "cell_type": "code",
   "execution_count": 72,
   "metadata": {},
   "outputs": [
    {
     "name": "stdout",
     "output_type": "stream",
     "text": [
      "+---------+\n",
      "|     name|\n",
      "+---------+\n",
      "|037717956|\n",
      "|077564444|\n",
      "+---------+\n",
      "\n"
     ]
    }
   ],
   "source": [
    "parsedDF.select(\"data2.name\").show()"
   ]
  }
 ],
 "metadata": {
  "kernelspec": {
   "display_name": "Apache Toree - Scala",
   "language": "scala",
   "name": "apache_toree_scala"
  },
  "language_info": {
   "file_extension": ".scala",
   "name": "scala",
   "version": "2.11.8"
  }
 },
 "nbformat": 4,
 "nbformat_minor": 2
}
